{
 "cells": [
  {
   "cell_type": "code",
   "execution_count": null,
   "id": "e73dbf06-74d8-4de9-87bd-2b1872b54522",
   "metadata": {},
   "outputs": [],
   "source": [
    "import torch\n",
    "import numpy as np\n",
    "import normalization\n",
    "import kornia\n",
    "from PIL import Image\n",
    "import matplotlib.pyplot as plt\n",
    "\n",
    "def white_balance(image):\n",
    "    image = image.numpy().copy()\n",
    "    valid = np.all(~np.isnan(image), axis=2)\n",
    "    image_valid = image[valid]\n",
    "    image_valid = image_valid / image_valid.mean(axis=0)\n",
    "    image_valid = np.clip(image_valid, np.percentile(image_valid, 1), np.percentile(image_valid, 99))\n",
    "    image_valid = image_valid - np.min(image_valid)\n",
    "    image_valid = image_valid / np.max(image_valid)\n",
    "    image[~valid] = 0\n",
    "    image[valid] = image_valid\n",
    "    return image\n",
    "\n",
    "def stretch(image, mask):\n",
    "    mask = mask.numpy().copy()\n",
    "    valid = np.all(~np.isnan(mask), axis=2)\n",
    "    image_valid = image[valid]\n",
    "    image_valid = np.clip(image_valid, np.percentile(image_valid, 1, axis=0), np.percentile(image_valid, 99, axis=0))\n",
    "    image_valid = image_valid - np.min(image_valid, axis=0)\n",
    "    image_valid = image_valid / np.max(image_valid, axis=0)\n",
    "    mask[~valid] = 0\n",
    "    mask[valid] = image_valid\n",
    "    return mask"
   ]
  },
  {
   "cell_type": "code",
   "execution_count": null,
   "id": "1c2939aa-1c7a-4168-a92e-82b75c32bb14",
   "metadata": {},
   "outputs": [],
   "source": [
    "J = torch.load('test/20150419T033644.000Z.pt')"
   ]
  },
  {
   "cell_type": "code",
   "execution_count": null,
   "id": "a821d4f1-0380-46e5-9160-de39808f4704",
   "metadata": {},
   "outputs": [],
   "source": [
    "Image.fromarray(\n",
    "    np.uint8(normalization.tone_map(\n",
    "        stretch(white_balance(J), J)\n",
    "    ) * 255)\n",
    ")"
   ]
  },
  {
   "cell_type": "code",
   "execution_count": null,
   "id": "cf97410e-c424-42b2-9afe-0ac16429ee6e",
   "metadata": {},
   "outputs": [],
   "source": [
    "a=np.uint8(normalization.tone_map(\n",
    "    stretch(white_balance(J), J)\n",
    ") * 255)\n",
    "b=np.uint8(normalization.tone_map(\n",
    "    white_balance(J)\n",
    ") * 255)"
   ]
  },
  {
   "cell_type": "code",
   "execution_count": null,
   "id": "3f4742f9-db54-457c-8a7b-7dac251d17aa",
   "metadata": {},
   "outputs": [],
   "source": [
    "plt.hist([a[:, :, 0].flatten(), a[:, :, 1].flatten(), a[:, :, 2].flatten()], color=['r', 'g', 'b'], bins=20)\n",
    "plt.show()\n",
    "plt.hist([b[:, :, 0].flatten(), b[:, :, 1].flatten(), b[:, :, 2].flatten()], color=['r', 'g', 'b'], bins=20)\n",
    "plt.show()"
   ]
  },
  {
   "cell_type": "code",
   "execution_count": null,
   "id": "1d0b7d8f-709b-4165-a3a1-bacc84f86d46",
   "metadata": {},
   "outputs": [],
   "source": [
    "plt.hist([J[:, :, 0].flatten(), J[:, :, 1].flatten(), J[:, :, 2].flatten()], color=['r', 'g', 'b'], bins=20)\n",
    "plt.show()"
   ]
  },
  {
   "cell_type": "code",
   "execution_count": null,
   "id": "9f1892a7-dedb-4d1e-affa-a558a437f81e",
   "metadata": {},
   "outputs": [],
   "source": [
    "a=white_balance(J)\n",
    "plt.hist([a[:, :, 0].flatten(), a[:, :, 1].flatten(), a[:, :, 2].flatten()], color=['r', 'g', 'b'], bins=20)\n",
    "plt.show()"
   ]
  },
  {
   "cell_type": "code",
   "execution_count": null,
   "id": "f90b1380-915f-42e4-8dd4-a123b76b6704",
   "metadata": {},
   "outputs": [],
   "source": [
    "lab = kornia.color.rgb_to_lab(kornia.color.linear_rgb_to_rgb(J.movedim(2, 0)))\n",
    "valid = torch.all(~lab.isnan(), dim=0)\n",
    "l, a, b = lab[:, valid]"
   ]
  },
  {
   "cell_type": "code",
   "execution_count": null,
   "id": "2180edf9-bc80-4ea6-a5a4-935b53f88ded",
   "metadata": {},
   "outputs": [],
   "source": [
    "a = np.zeros_like(l.numpy())\n",
    "args_l_valid = ~l.isnan()\n",
    "l_valid = l[args_l_valid]\n",
    "l_valid = np.clip(l_valid, np.percentile(l_valid, 1), np.percentile(l_valid, 99))\n",
    "l_valid = l_valid - l_valid.min()\n",
    "l_valid = l_valid / l_valid.max()\n",
    "a[args_l_valid] = l_valid"
   ]
  },
  {
   "cell_type": "code",
   "execution_count": null,
   "id": "1df4054a-af51-477b-9a4b-2cc767f8d867",
   "metadata": {},
   "outputs": [],
   "source": [
    "plt.imshow(a, cmap='gray')"
   ]
  },
  {
   "cell_type": "code",
   "execution_count": null,
   "id": "e63ce12c-036d-412c-91db-d74af79987d0",
   "metadata": {},
   "outputs": [],
   "source": [
    "J = torch.load('test/20150419T033644.000Z.pt')\n",
    "valid = torch.all(~J.isnan(), dim=2)\n",
    "J_valid = J[valid].numpy()\n",
    "# J_valid = J_valid / J_valid.mean(dim=0)\n",
    "J_valid = np.clip(J_valid, np.percentile(J_valid, 1, axis=0), np.percentile(J_valid, 99, axis=0))\n",
    "J_valid = J_valid - J_valid.min(axis=0)\n",
    "J_valid = J_valid / J_valid.max(axis=0)\n",
    "J[valid] = torch.tensor(J_valid, dtype=torch.float32)\n",
    "lab = kornia.color.rgb_to_lab(kornia.color.linear_rgb_to_rgb(J.movedim(2, 0)))\n",
    "l, a, b = lab[:, valid]\n",
    "avg_a = a.mean()\n",
    "avg_b = b.mean()\n",
    "a_shift = -avg_a\n",
    "b_shift = -avg_b\n",
    "a_delta = a_shift * (l / 100) * 1.1\n",
    "b_delta = b_shift * (l / 100) * 1.1\n",
    "a, b = a + a_delta, b + b_delta\n",
    "lab[1, valid] = a\n",
    "lab[2, valid] = b\n",
    "rgb = kornia.color.lab_to_rgb(lab).movedim(0, 2)"
   ]
  },
  {
   "cell_type": "code",
   "execution_count": null,
   "id": "1ac6b5e7-475d-47cf-9a36-d48deb6a96cd",
   "metadata": {},
   "outputs": [],
   "source": [
    "rgb[~valid] = 0\n",
    "plt.imshow(rgb.numpy())"
   ]
  },
  {
   "cell_type": "code",
   "execution_count": null,
   "id": "04dd343b-3b7c-4db0-8ad5-d1f578868081",
   "metadata": {},
   "outputs": [],
   "source": [
    "Image.fromarray(np.uint8(rgb.numpy() * 255))"
   ]
  },
  {
   "cell_type": "code",
   "execution_count": null,
   "id": "2907a8f4-7bda-4c5e-bd35-e3774ed7367e",
   "metadata": {},
   "outputs": [],
   "source": []
  }
 ],
 "metadata": {
  "kernelspec": {
   "display_name": "Python 3 (ipykernel)",
   "language": "python",
   "name": "python3"
  },
  "language_info": {
   "codemirror_mode": {
    "name": "ipython",
    "version": 3
   },
   "file_extension": ".py",
   "mimetype": "text/x-python",
   "name": "python",
   "nbconvert_exporter": "python",
   "pygments_lexer": "ipython3",
   "version": "3.10.8"
  }
 },
 "nbformat": 4,
 "nbformat_minor": 5
}
