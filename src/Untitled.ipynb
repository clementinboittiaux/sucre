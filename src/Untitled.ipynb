{
 "cells": [
  {
   "cell_type": "code",
   "execution_count": null,
   "id": "e022a554-562c-4272-b7b2-e88cdcab03b7",
   "metadata": {},
   "outputs": [],
   "source": [
    "import cv2\n",
    "import tqdm\n",
    "import h5py\n",
    "import torch\n",
    "import pycolmap\n",
    "import numpy as np\n",
    "from pathlib import Path\n",
    "from PIL import Image\n",
    "from torch.func import jacfwd\n",
    "from torch.autograd.functional import jacobian\n",
    "\n",
    "import sfm\n",
    "import loader\n",
    "\n",
    "\n",
    "def normalize(unattenuated):\n",
    "    restored = unattenuated.cpu().numpy().copy()\n",
    "    valid = np.all(~np.isnan(restored), axis=2)\n",
    "    restored_valid = restored[valid]\n",
    "    restored_valid = np.clip(restored_valid, np.percentile(restored_valid, 1, axis=0), np.percentile(restored_valid, 99, axis=0))\n",
    "    restored_valid = restored_valid - np.min(restored_valid, axis=0)\n",
    "    restored_valid = restored_valid / np.max(restored_valid, axis=0)\n",
    "    restored[~valid] = 0\n",
    "    restored[valid] = restored_valid\n",
    "    return Image.fromarray(np.uint8(restored * 255))\n",
    "\n",
    "\n",
    "def sparse_norm(P):\n",
    "    return torch.sparse_coo_tensor(\n",
    "        indices=P.indices(),\n",
    "        values=P.values().norm(dim=1, keepdim=True),\n",
    "        size=(*P.shape[:-1], 1),\n",
    "        is_coalesced=True\n",
    "    )\n",
    "\n",
    "\n",
    "def sparse_exp(P):\n",
    "    return torch.sparse_coo_tensor(\n",
    "        indices=P.indices(),\n",
    "        values=P.values().exp(),\n",
    "        size=P.shape,\n",
    "        is_coalesced=True\n",
    "    )\n",
    "\n",
    "\n",
    "def sparse_add(P, value):\n",
    "    return torch.sparse_coo_tensor(\n",
    "        indices=P.indices(),\n",
    "        values=P.values() + value,\n",
    "        size=P.shape,\n",
    "        is_coalesced=True\n",
    "    )\n",
    "\n",
    "\n",
    "device='cuda'\n",
    "num_workers = 6"
   ]
  },
  {
   "cell_type": "code",
   "execution_count": null,
   "id": "a48caaf8-6bdb-438e-8fd7-7c7981b9f5c8",
   "metadata": {},
   "outputs": [],
   "source": [
    "colmap_model = sfm.COLMAPModel(\n",
    "    model_dir=Path('/media/clementin/data/Dehazing/2015/sparse/'),\n",
    "    image_dir=Path('/media/clementin/data/Dehazing/2015/images/'),\n",
    "    depth_dir=Path('/media/clementin/data/Dehazing/2015/depth_maps/'),\n",
    "    image_scale=0.25\n",
    ")\n",
    "\n",
    "image = colmap_model['20150418T030314.000Z.png']\n",
    "matches_file = loader.MatchesFile(path=Path('test/20150418T030314.000Z.h5'), colmap_model=colmap_model, overwrite=False)"
   ]
  },
  {
   "cell_type": "code",
   "execution_count": null,
   "id": "6aa75030-5da4-4bf4-9789-d76a882b1460",
   "metadata": {
    "jupyter": {
     "source_hidden": true
    }
   },
   "outputs": [],
   "source": [
    "image.match_images(\n",
    "    image_list=list(colmap_model.images.values()),\n",
    "    matches_file=matches_file,\n",
    "    min_cover=0.01,\n",
    "    num_workers=num_workers,\n",
    "    device=device\n",
    ")\n",
    "matches_file.prepare_matches(num_workers=num_workers)"
   ]
  },
  {
   "cell_type": "code",
   "execution_count": null,
   "id": "bc6c825f-d151-44d1-9820-1e7e21bf320d",
   "metadata": {},
   "outputs": [],
   "source": [
    "matches_file.check_integrity()\n",
    "cP, I = matches_file.load_matches(image, device=device)\n",
    "z = sparse_norm(cP)\n",
    "del cP"
   ]
  },
  {
   "cell_type": "code",
   "execution_count": null,
   "id": "f869ddc6-120a-4bf9-9461-7fd4ee329d46",
   "metadata": {},
   "outputs": [],
   "source": [
    "def compute_cost(B, beta, gamma):\n",
    "    absorption = sparse_exp(-beta.view(1, 1, 3) * z)\n",
    "    backscatter = B.view(1, 1, 3) * sparse_add(-sparse_exp(-gamma.view(1, 1, 3) * z), 1)\n",
    "    D = I - backscatter\n",
    "    J = torch.sum(D * absorption, dim=0).to_dense() / torch.sum(absorption.square(), dim=0).to_dense()\n",
    "    cost = torch.square(I - (J * absorption + backscatter)).sum()\n",
    "    return cost\n",
    "\n",
    "B_hat = torch.full((3,), 0.01, device=device)\n",
    "beta_hat = torch.full((3,), 0.01, device=device)\n",
    "gamma_hat = torch.full((3,), 0.01, device=device)\n",
    "\n",
    "for _ in range(100):\n",
    "    jac = jacobian(compute_cost, (B_hat, beta_hat, gamma_hat))\n",
    "    hess = torch.func.hessian(compute_cost, argnums=(0, 1, 2))(B_hat, beta_hat, gamma_hat)\n",
    "    #print(compute_residuals(B_hat, beta_hat, gamma_hat))\n",
    "    diff = torch.tensor(hess).inverse() @ torch.tensor(jac)\n",
    "    B_hat -= diff[0]\n",
    "    beta_hat -= diff[1]\n",
    "    gamma_hat -= diff[2]\n",
    "    print(B_hat.item(), beta_hat.item(), gamma_hat.item())"
   ]
  },
  {
   "cell_type": "code",
   "execution_count": null,
   "id": "6217d205-8fc7-4b9c-9242-87a849a89a8d",
   "metadata": {},
   "outputs": [],
   "source": [
    "cost"
   ]
  },
  {
   "cell_type": "code",
   "execution_count": null,
   "id": "b237f1eb-5fe4-4e2e-b096-f9f1296b3839",
   "metadata": {},
   "outputs": [],
   "source": [
    "normalize(J.view(image.camera.height, image.camera.width, 3))"
   ]
  },
  {
   "cell_type": "code",
   "execution_count": null,
   "id": "3eee386f-8438-4459-8ed3-a8754a8e7d2c",
   "metadata": {},
   "outputs": [],
   "source": [
    "normalize(J.view(image.camera.height, image.camera.width, 3))"
   ]
  },
  {
   "cell_type": "code",
   "execution_count": null,
   "id": "2596acf4-5beb-4ccc-9d73-e2a9308762f2",
   "metadata": {},
   "outputs": [],
   "source": [
    "def compute_residuals(B, beta, gamma):\n",
    "    numerator = torch.zeros((image.camera.height, image.camera.width, 3), device=device)\n",
    "    denominator = torch.zeros((image.camera.height, image.camera.width, 3), device=device)\n",
    "    for ui, vi, cPi, Ii in zip(u, v, cP, I):\n",
    "        zi = cPi.norm(dim=0)\n",
    "        ai = torch.exp(-beta * zi)\n",
    "        bi = 1 - torch.exp(-gamma * zi)\n",
    "        Di = Ii - B * bi\n",
    "        numerator[vi.long(), ui.long()] += (Di * bi).T\n",
    "        denominator[vi.long(), ui.long()] += ai.square().T\n",
    "    J = numerator / denominator\n",
    "    cursor = 0\n",
    "    residuals = torch.zeros((3, n_obs), device=device)\n",
    "    for ui, vi, cPi, Ii in zip(u, v, cP, I):\n",
    "        length = ui.shape[0]\n",
    "        zi = cPi.norm(dim=0)\n",
    "        residuals[:, cursor:cursor + length] = Ii - J[vi.long(), ui.long()].T * torch.exp(-beta * zi) - B * (1 - torch.exp(-gamma * zi))\n",
    "        cursor += length\n",
    "    return residuals.flatten()\n",
    "\n",
    "B_hat = torch.full((3, 1), 0.01, device=device)\n",
    "beta_hat = torch.full((3, 1), 0.01, device=device)\n",
    "gamma_hat = torch.full((3, 1), 0.01, device=device)\n",
    "\n",
    "jac = torch.func.jacfwd(compute_residuals)(B_hat, beta_hat, gamma_hat)"
   ]
  },
  {
   "cell_type": "code",
   "execution_count": null,
   "id": "2f4c687d-83c3-4717-8e16-eacaa40ed07e",
   "metadata": {},
   "outputs": [],
   "source": [
    "def compute_residuals(B, beta, gamma):\n",
    "    numerator = torch.zeros((image.camera.height, image.camera.width), device=device)\n",
    "    denominator = torch.zeros((image.camera.height, image.camera.width), device=device)\n",
    "    for ui, vi, cPi, Ii in zip(u, v, cP, I):\n",
    "        zi = cPi.norm(dim=0)\n",
    "        ai = torch.exp(-beta * zi)\n",
    "        bi = 1 - torch.exp(-gamma * zi)\n",
    "        Di = Ii[2] - B * bi\n",
    "        numerator[vi.long(), ui.long()] += Di * bi\n",
    "        denominator[vi.long(), ui.long()] += ai.square()\n",
    "    J = numerator / denominator\n",
    "    cost = 0\n",
    "    for ui, vi, cPi, Ii in zip(u, v, cP, I):\n",
    "        zi = cPi.norm(dim=0)\n",
    "        cost += torch.square(Ii[2] - J[vi.long(), ui.long()] * torch.exp(-beta * zi) - B * (1 - torch.exp(-gamma * zi))).sum()\n",
    "    return cost\n",
    "\n",
    "\n",
    "B_hat = torch.tensor(0.25, device=device)\n",
    "beta_hat = torch.tensor(0.1, device=device)\n",
    "gamma_hat = torch.tensor(0.1, device=device)\n",
    "\n",
    "# jac = jacobian(compute_residuals, (B_hat, beta_hat, gamma_hat))"
   ]
  },
  {
   "cell_type": "code",
   "execution_count": null,
   "id": "a19d59e2-3744-42ab-b31f-3800d43feb81",
   "metadata": {},
   "outputs": [],
   "source": [
    "for _ in range(100):\n",
    "    jac = jacobian(compute_residuals, (B_hat, beta_hat, gamma_hat))\n",
    "    hess = torch.func.hessian(compute_residuals, argnums=(0, 1, 2))(B_hat, beta_hat, gamma_hat)\n",
    "    print(compute_residuals(B_hat, beta_hat, gamma_hat))\n",
    "    diff = torch.tensor(hess).inverse() @ torch.tensor(jac)\n",
    "    B_hat -= diff[0]\n",
    "    beta_hat -= diff[1]\n",
    "    gamma_hat -= diff[2]\n",
    "    print(B_hat.item(), beta_hat.item(), gamma_hat.item())"
   ]
  },
  {
   "cell_type": "code",
   "execution_count": null,
   "id": "b77bc5a7-7ae7-4621-bcbd-699304dbe438",
   "metadata": {},
   "outputs": [],
   "source": [
    "jac = torch.func.jacfwd(compute_residuals)(B_hat, beta_hat, gamma_hat)\n",
    "hess = torch.func.jacfwd(torch.func.jacfwd(compute_residuals))(B_hat, beta_hat, gamma_hat)"
   ]
  },
  {
   "cell_type": "code",
   "execution_count": null,
   "id": "c49a1eae-5532-4745-a39f-54c31a503c49",
   "metadata": {},
   "outputs": [],
   "source": [
    "torch.tensor(hess)"
   ]
  },
  {
   "cell_type": "code",
   "execution_count": null,
   "id": "adcb2b37-0bb9-4c49-90ff-29370f62e29c",
   "metadata": {},
   "outputs": [],
   "source": [
    "hess.max()"
   ]
  },
  {
   "cell_type": "code",
   "execution_count": null,
   "id": "e2698082-e977-4ab4-b25a-413a8286ddc4",
   "metadata": {},
   "outputs": [],
   "source": [
    "jac.re"
   ]
  },
  {
   "cell_type": "code",
   "execution_count": null,
   "id": "62b3854a-6aaf-45a6-99b7-e665dcf52676",
   "metadata": {},
   "outputs": [],
   "source": []
  }
 ],
 "metadata": {
  "kernelspec": {
   "display_name": "Python 3 (ipykernel)",
   "language": "python",
   "name": "python3"
  },
  "language_info": {
   "codemirror_mode": {
    "name": "ipython",
    "version": 3
   },
   "file_extension": ".py",
   "mimetype": "text/x-python",
   "name": "python",
   "nbconvert_exporter": "python",
   "pygments_lexer": "ipython3",
   "version": "3.10.13"
  }
 },
 "nbformat": 4,
 "nbformat_minor": 5
}
